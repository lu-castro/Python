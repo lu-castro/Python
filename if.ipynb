{
 "cells": [
  {
   "cell_type": "markdown",
   "metadata": {},
   "source": [
    "<h3>Statement if</h3>"
   ]
  },
  {
   "cell_type": "markdown",
   "metadata": {},
   "source": [
    "<h8>El statement if es un condicional para \"poner a prueba\" las condiciones que suelen ser lógicas</h8>"
   ]
  },
  {
   "cell_type": "markdown",
   "metadata": {},
   "source": [
    "<h4>Colectar un string</h4>"
   ]
  },
  {
   "cell_type": "code",
   "execution_count": null,
   "metadata": {},
   "outputs": [],
   "source": [
    "input_1 = input(\"Insertá un string: \")\n",
    "\n",
    "if len(input_1) < 6:\n",
    "    print(\"El string es muy corto\")\n",
    "    print(\"Insertá otro string\")"
   ]
  },
  {
   "cell_type": "markdown",
   "metadata": {},
   "source": [
    "<h4>Colectar un integral</h4>"
   ]
  },
  {
   "cell_type": "markdown",
   "metadata": {},
   "source": [
    "<h8>si el valor de la variable number al dividirlo por dos es igual a cero entonces imprimir \"es par\", de otra manera imprimir \"es impar\".</h8>"
   ]
  },
  {
   "cell_type": "code",
   "execution_count": null,
   "metadata": {},
   "outputs": [],
   "source": [
    "# colectar integral\n",
    "\n",
    "input_2 = input(\"Insertá un integral: \")\n",
    "number = int(input_2)\n",
    "\n",
    "if number % 2 == 0:\n",
    "    print(\"Es par\")\n",
    "else:\n",
    "    print(\"Es impar\")"
   ]
  },
  {
   "cell_type": "markdown",
   "metadata": {},
   "source": [
    "<h4>Colectar el largo</h4>"
   ]
  },
  {
   "cell_type": "code",
   "execution_count": null,
   "metadata": {},
   "outputs": [],
   "source": [
    "<h8></h8>"
   ]
  },
  {
   "cell_type": "code",
   "execution_count": null,
   "metadata": {},
   "outputs": [],
   "source": [
    "#Triángulo escaleno: todos sus lados son distintos\n",
    "#Triángulo isóceles: dos de sus lados son iguales\n",
    "#Triángulo equilateral: todos sus lados son iguales\n",
    "\n",
    "a = input(int(\"Largo del lado a = \"))\n",
    "b = input(int(\"Largo del lado b = \"))\n",
    "c = input(int(\"Largo del lado c = \"))\n",
    "\n",
    "if a != b and b != c and a != c:\n",
    "    print(\"Es un triángulo escaleno\")\n",
    "elif a == b and b == c: \n",
    "    print(\"Es un triángulo equilátero\")\n",
    "else: \n",
    "    print(\"Es un triángulo isóceles\")\n",
    "    \n"
   ]
  },
  {
   "cell_type": "code",
   "execution_count": null,
   "metadata": {},
   "outputs": [],
   "source": []
  },
  {
   "cell_type": "code",
   "execution_count": null,
   "metadata": {},
   "outputs": [],
   "source": []
  },
  {
   "cell_type": "code",
   "execution_count": null,
   "metadata": {},
   "outputs": [],
   "source": []
  }
 ],
 "metadata": {
  "kernelspec": {
   "display_name": "Python 3",
   "language": "python",
   "name": "python3"
  },
  "language_info": {
   "codemirror_mode": {
    "name": "ipython",
    "version": 3
   },
   "file_extension": ".py",
   "mimetype": "text/x-python",
   "name": "python",
   "nbconvert_exporter": "python",
   "pygments_lexer": "ipython3",
   "version": "3.7.3"
  }
 },
 "nbformat": 4,
 "nbformat_minor": 2
}
