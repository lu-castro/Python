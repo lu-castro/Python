{
 "cells": [
  {
   "cell_type": "markdown",
   "metadata": {},
   "source": [
    "<h3>Bucles</h3>"
   ]
  },
  {
   "cell_type": "markdown",
   "metadata": {},
   "source": [
    "<h8>El bucle for se utiliza para recorrer los elementos de un objeto iterable (lista, tupla, conjunto, diccionario, …) y ejecutar un bloque de código.</h8>"
   ]
  },
  {
   "cell_type": "markdown",
   "metadata": {},
   "source": [
    "<h5>Bucle for</h5>"
   ]
  },
  {
   "cell_type": "code",
   "execution_count": 2,
   "metadata": {},
   "outputs": [
    {
     "name": "stdout",
     "output_type": "stream",
     "text": [
      "Hola\n",
      "Hola\n",
      "Hola\n"
     ]
    }
   ],
   "source": [
    "for i in [1, 2, 3]:\n",
    "    print(\"Hola\")"
   ]
  },
  {
   "cell_type": "code",
   "execution_count": 4,
   "metadata": {},
   "outputs": [
    {
     "name": "stdout",
     "output_type": "stream",
     "text": [
      "primavera\n",
      "invierno\n",
      "otoño\n",
      "verano\n"
     ]
    }
   ],
   "source": [
    "for seasons in [\"primavera\", \"invierno\", \"otoño\", \"verano\"]:\n",
    "    print(seasons)"
   ]
  },
  {
   "cell_type": "code",
   "execution_count": 5,
   "metadata": {},
   "outputs": [
    {
     "name": "stdout",
     "output_type": "stream",
     "text": [
      "HolaHolaHola"
     ]
    }
   ],
   "source": [
    "for i in (1, 2, 3):\n",
    "    print(\"Hola\", end=\"\") # end=\"\" elimina los espacios vacíos en la impresión "
   ]
  },
  {
   "cell_type": "code",
   "execution_count": 7,
   "metadata": {},
   "outputs": [
    {
     "name": "stdout",
     "output_type": "stream",
     "text": [
      "Email correcto\n"
     ]
    }
   ],
   "source": [
    " #Se utiliza para verificar si la cuenta de email es correcta o es incorrecta\n",
    "    \n",
    "for i in \"papasalhorno@gmail.com\":\n",
    "    if(i==\"@\"):\n",
    "        email=True\n",
    "        \n",
    "if email==True:\n",
    "    print(\"Email correcto\")\n",
    "else:\n",
    "    print(\"Email incorrecta\")\n",
    "   "
   ]
  },
  {
   "cell_type": "code",
   "execution_count": 9,
   "metadata": {},
   "outputs": [
    {
     "name": "stdout",
     "output_type": "stream",
     "text": [
      "Introducí tu dirección de mail  luciacastro.23.5@gmail.com\n",
      "Email correcto\n"
     ]
    }
   ],
   "source": [
    "emailInput = input(\"Introducí tu dirección de mail  \")\n",
    "\n",
    "for i in emailInput:\n",
    "    if(i==\"@\"):\n",
    "        email=True\n",
    "\n",
    "if email==True:\n",
    "    print(\"Email correcto\")\n",
    "else:\n",
    "    print(\"Email incorrecto\")"
   ]
  },
  {
   "cell_type": "code",
   "execution_count": null,
   "metadata": {},
   "outputs": [],
   "source": [
    "emailInput = input(\"Intrucí tu dirección de mail  \")\n",
    "\n",
    "for i in emailInput:\n",
    "    if(i==\"@\" or i==\".\")\n",
    "    contador=contador+1\n",
    "    \n",
    "if contador==2:\n",
    "    print(\"Tu email es correcto\")\n",
    "    else:\n",
    "        print(\"Tu email es incorrecto\")"
   ]
  }
 ],
 "metadata": {
  "kernelspec": {
   "display_name": "Python 3",
   "language": "python",
   "name": "python3"
  },
  "language_info": {
   "codemirror_mode": {
    "name": "ipython",
    "version": 3
   },
   "file_extension": ".py",
   "mimetype": "text/x-python",
   "name": "python",
   "nbconvert_exporter": "python",
   "pygments_lexer": "ipython3",
   "version": "3.7.3"
  }
 },
 "nbformat": 4,
 "nbformat_minor": 2
}
