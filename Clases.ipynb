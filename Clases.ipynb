{
 "cells": [
  {
   "cell_type": "markdown",
   "metadata": {},
   "source": [
    "<h3>Clases de Python</h3>"
   ]
  },
  {
   "cell_type": "markdown",
   "metadata": {},
   "source": [
    "<h5>Primera clase</h5>"
   ]
  },
  {
   "cell_type": "markdown",
   "metadata": {},
   "source": [
    "<h8>Llamamos un método. User1 es la intancia/objeto de la User Class al cual le otorgamos un valor. Por último, llamamos a la variable.</h8>"
   ]
  },
  {
   "cell_type": "code",
   "execution_count": 5,
   "metadata": {},
   "outputs": [
    {
     "name": "stdout",
     "output_type": "stream",
     "text": [
      "David\n"
     ]
    }
   ],
   "source": [
    "class User: \n",
    "    pass\n",
    "\n",
    "user1 = User()  \n",
    "user1.first_name= \"David\"  \n",
    "user1.last_name= \"Thomson\" \n",
    "\n",
    "#llamamos a la variable\n",
    "print(user1.first_name)"
   ]
  },
  {
   "cell_type": "code",
   "execution_count": 3,
   "metadata": {},
   "outputs": [
    {
     "name": "stdout",
     "output_type": "stream",
     "text": [
      "Thomson\n"
     ]
    }
   ],
   "source": [
    "print(user1.last_name)"
   ]
  },
  {
   "cell_type": "markdown",
   "metadata": {},
   "source": [
    "<h8>Las variables se mantienen separadas</h8>"
   ]
  },
  {
   "cell_type": "code",
   "execution_count": 8,
   "metadata": {},
   "outputs": [
    {
     "name": "stdout",
     "output_type": "stream",
     "text": [
      "Ismael Roman\n",
      "David Thomson\n"
     ]
    }
   ],
   "source": [
    "sfirst_name= \"Ismael\"\n",
    "last_name= \"Roman\"\n",
    "\n",
    "print(first_name, last_name)\n",
    "print(user1.first_name, user1.last_name)"
   ]
  },
  {
   "cell_type": "markdown",
   "metadata": {},
   "source": [
    "<h8>Podés crear tantos objetos como quieras dentro de una clase</h8>"
   ]
  },
  {
   "cell_type": "code",
   "execution_count": 4,
   "metadata": {},
   "outputs": [
    {
     "name": "stdout",
     "output_type": "stream",
     "text": [
      "Horacio Quiroga\n"
     ]
    }
   ],
   "source": [
    "user2 = User()\n",
    "user2.first_name= \"Horacio\"\n",
    "user2.last_name= \"Quiroga\" \n",
    "\n",
    "print(user2.first_name, user2.last_name)"
   ]
  },
  {
   "cell_type": "markdown",
   "metadata": {},
   "source": [
    "<h5>Segunda clase</h5>"
   ]
  },
  {
   "cell_type": "markdown",
   "metadata": {},
   "source": [
    "<h8>Importamos el módulo datetime para trabajar con fechas</h8>"
   ]
  },
  {
   "cell_type": "markdown",
   "metadata": {},
   "source": [
    "<h8>El método init se utiliza para inicializar la instancia de la clase. Toma el argumento self para referirse al nuevo objeto que se está creando</h8>"
   ]
  },
  {
   "cell_type": "code",
   "execution_count": 10,
   "metadata": {},
   "outputs": [
    {
     "name": "stdout",
     "output_type": "stream",
     "text": [
      "David Quiroga\n",
      "1997\n"
     ]
    }
   ],
   "source": [
    "import datetime\n",
    "class User:\n",
    "    def __init__(self, full_name,birthday): \n",
    "        self.name = full_name\n",
    "        self.birthday = birthday #yymmdd\n",
    "        \n",
    "user = User(\"David Quiroga\", \"1997\")\n",
    "print(user.name)\n",
    "print(user.birthday)"
   ]
  },
  {
   "cell_type": "code",
   "execution_count": 23,
   "metadata": {},
   "outputs": [
    {
     "ename": "AttributeError",
     "evalue": "'User' object has no attribute 'age'",
     "output_type": "error",
     "traceback": [
      "\u001b[0;31m---------------------------------------------------------------------------\u001b[0m",
      "\u001b[0;31mAttributeError\u001b[0m                            Traceback (most recent call last)",
      "\u001b[0;32m<ipython-input-23-7c0dd1d0fcbc>\u001b[0m in \u001b[0;36m<module>\u001b[0;34m\u001b[0m\n\u001b[1;32m     12\u001b[0m \u001b[0;34m\u001b[0m\u001b[0m\n\u001b[1;32m     13\u001b[0m \u001b[0muser\u001b[0m \u001b[0;34m=\u001b[0m \u001b[0mUser\u001b[0m\u001b[0;34m(\u001b[0m\u001b[0;34m\"David Quiroga\"\u001b[0m\u001b[0;34m,\u001b[0m \u001b[0;34m\"1997\"\u001b[0m\u001b[0;34m)\u001b[0m\u001b[0;34m\u001b[0m\u001b[0;34m\u001b[0m\u001b[0m\n\u001b[0;32m---> 14\u001b[0;31m \u001b[0mprint\u001b[0m\u001b[0;34m(\u001b[0m\u001b[0muser\u001b[0m\u001b[0;34m.\u001b[0m\u001b[0mage\u001b[0m\u001b[0;34m(\u001b[0m\u001b[0;34m)\u001b[0m\u001b[0;34m)\u001b[0m\u001b[0;34m\u001b[0m\u001b[0;34m\u001b[0m\u001b[0m\n\u001b[0m",
      "\u001b[0;31mAttributeError\u001b[0m: 'User' object has no attribute 'age'"
     ]
    }
   ],
   "source": [
    "def age(self):\n",
    "    today = datetime.time(2001, 5, 12)\n",
    "    yyyy = int(self.birthday[0:4])\n",
    "    mm = int(self.birthday[4:6])\n",
    "    dd = int(self.birthdat[6:8])\n",
    "    \n",
    "    dob = datetime.date(yyyy, mm, dd)\n",
    "    age_in_days = (today - dob).days\n",
    "    age_in_years = age_in_days / 365\n",
    "    \n",
    "    return(int(age_in_years))\n",
    "\n",
    "user = User(\"David Quiroga\", \"1997\")\n",
    "print(user.age())"
   ]
  },
  {
   "cell_type": "markdown",
   "metadata": {},
   "source": [
    "<h8>La función help() invoca al sistema interactivo dentro de el proyecto</h8>"
   ]
  },
  {
   "cell_type": "code",
   "execution_count": 8,
   "metadata": {},
   "outputs": [
    {
     "name": "stdout",
     "output_type": "stream",
     "text": [
      "Help on class User in module __main__:\n",
      "\n",
      "class User(builtins.object)\n",
      " |  User(full_name, birthday)\n",
      " |  \n",
      " |  Methods defined here:\n",
      " |  \n",
      " |  __init__(self, full_name, birthday)\n",
      " |      Initialize self.  See help(type(self)) for accurate signature.\n",
      " |  \n",
      " |  ----------------------------------------------------------------------\n",
      " |  Data descriptors defined here:\n",
      " |  \n",
      " |  __dict__\n",
      " |      dictionary for instance variables (if defined)\n",
      " |  \n",
      " |  __weakref__\n",
      " |      list of weak references to the object (if defined)\n",
      "\n"
     ]
    }
   ],
   "source": [
    "help(User)"
   ]
  },
  {
   "cell_type": "code",
   "execution_count": null,
   "metadata": {},
   "outputs": [],
   "source": []
  }
 ],
 "metadata": {
  "kernelspec": {
   "display_name": "Python 3",
   "language": "python",
   "name": "python3"
  },
  "language_info": {
   "codemirror_mode": {
    "name": "ipython",
    "version": 3
   },
   "file_extension": ".py",
   "mimetype": "text/x-python",
   "name": "python",
   "nbconvert_exporter": "python",
   "pygments_lexer": "ipython3",
   "version": "3.7.3"
  }
 },
 "nbformat": 4,
 "nbformat_minor": 2
}
