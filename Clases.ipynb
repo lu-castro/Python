{
 "cells": [
  {
   "cell_type": "markdown",
   "metadata": {},
   "source": [
    "<h3>Clases de Python</h3>"
   ]
  },
  {
   "cell_type": "code",
   "execution_count": 4,
   "metadata": {},
   "outputs": [
    {
     "name": "stdout",
     "output_type": "stream",
     "text": [
      "David\n"
     ]
    }
   ],
   "source": [
    "class User: \n",
    "    pass\n",
    "\n",
    "#llamamos un método\n",
    "user1 = User()  #user1 es la instancia/objeto de la User Class\n",
    "user1.first_name= \"David\"  #le otorgamos al user1 un valor\n",
    "user1.last_name= \"Thomson\" \n",
    "\n",
    "#llamamos a la variable\n",
    "print(user1.first_name)"
   ]
  },
  {
   "cell_type": "code",
   "execution_count": 6,
   "metadata": {},
   "outputs": [
    {
     "name": "stdout",
     "output_type": "stream",
     "text": [
      "Thomson\n"
     ]
    }
   ],
   "source": [
    "print(user1.last_name)"
   ]
  },
  {
   "cell_type": "code",
   "execution_count": 8,
   "metadata": {},
   "outputs": [
    {
     "name": "stdout",
     "output_type": "stream",
     "text": [
      "Ismael Roman\n",
      "David Thomson\n"
     ]
    }
   ],
   "source": [
    "#las variables se mantienen separadas\n",
    "\n",
    "first_name= \"Ismael\"\n",
    "last_name= \"Roman\"\n",
    "\n",
    "print(first_name, last_name)\n",
    "print(user1.first_name, user1.last_name)"
   ]
  },
  {
   "cell_type": "code",
   "execution_count": null,
   "metadata": {},
   "outputs": [],
   "source": []
  }
 ],
 "metadata": {
  "kernelspec": {
   "display_name": "Python 3",
   "language": "python",
   "name": "python3"
  },
  "language_info": {
   "codemirror_mode": {
    "name": "ipython",
    "version": 3
   },
   "file_extension": ".py",
   "mimetype": "text/x-python",
   "name": "python",
   "nbconvert_exporter": "python",
   "pygments_lexer": "ipython3",
   "version": "3.7.3"
  }
 },
 "nbformat": 4,
 "nbformat_minor": 2
}
